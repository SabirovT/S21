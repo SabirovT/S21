{
 "cells": [
  {
   "cell_type": "code",
   "execution_count": 1,
   "id": "f759b2f2",
   "metadata": {},
   "outputs": [],
   "source": [
    "import numpy as np\n",
    "import matplotlib.pyplot as plt\n",
    "\n",
    "from scipy.optimize import curve_fit\n",
    "from scipy.optimize import minimize\n",
    "from ellipse import LsqEllipse\n",
    "\n",
    "from numba import njit"
   ]
  },
  {
   "cell_type": "code",
   "execution_count": 2,
   "id": "6c279b60",
   "metadata": {},
   "outputs": [],
   "source": [
    "import pickle as pkl\n",
    "def unpack(file_path, is_number, freq_var=0):\n",
    "    with open(file_path, 'rb') as file:\n",
    "        row_data = pkl.load(file)\n",
    "#         print(row_data.keys())\n",
    "        if is_number:\n",
    "            freq_vars = row_data[0]\n",
    "            power = np.array(row_data[1])\n",
    "            freq = np.array(row_data[2][freq_vars[freq_var]][0][0])\n",
    "            data = np.array([row_data[2][freq_vars[freq_var]][i][1]\n",
    "                                 for i in range(len(power))])\n",
    "        else:\n",
    "            try:\n",
    "                freq, power = row_data['Frequency [Hz]'], row_data['power [dBm]']\n",
    "                data = np.array(row_data['data'])\n",
    "            except:\n",
    "                freq, power = row_data['Frequency [Hz]'], row_data['Power [dBm]']\n",
    "                data = np.array(row_data['data'])\n",
    "            \n",
    "    return power, data, freq"
   ]
  },
  {
   "cell_type": "code",
   "execution_count": 3,
   "id": "25d5250d",
   "metadata": {},
   "outputs": [],
   "source": [
    "class Parameters(object):\n",
    "    \n",
    "    def __init__(self, a=1., alpha=1., tau=1., phi=1., gamma1=1., gamma2=1., freq_r=None, omega=None, n=1):\n",
    "        self.a, self.alpha, self.tau, self.phi, self.gamma1, self.gamma2,  self.freq_r, self.omega =\\\n",
    "        a, alpha, tau, phi, gamma1, gamma2, freq_r, omega\n",
    "        \n",
    "        if (freq_r == None): self.freq_r = np.ones(shape=n)\n",
    "        if (omega == None): self.omega = np.ones(shape=n)\n",
    "            \n",
    "    def get_parameters(self):\n",
    "        return self.a, self.alpha, self.tau, self.phi, self.gamma1, self.gamma2,  self.freq_r, self.omega "
   ]
  },
  {
   "cell_type": "code",
   "execution_count": 4,
   "id": "a2b951a0",
   "metadata": {},
   "outputs": [],
   "source": [
    "class Initial_Guess(object):\n",
    "    \n",
    "    def __init__(self, a=None, alpha=None, tau=None, phi=None, gamma1=None, gamma2=None, freq_r=None, omega=None, n=1):\n",
    "        self.a, self.alpha, self.tau, self.phi, self.gamma1, self.gamma2,  self.freq_r, self.omega =\\\n",
    "        a, alpha, tau, phi, gamma1, gamma2, freq_r, omega\n",
    "        \n",
    "        if (freq_r == None): self.freq_r = np.ones(shape=n)\n",
    "        if (a == None): self.a = np.ones(shape=n)\n",
    "        if (alpha == None): self.alpha = np.ones(shape=n)\n",
    "        if (tau == None): self.tau = np.ones(shape=n)\n",
    "        if (phi == None): self.phi = np.ones(shape=n)\n",
    "        if (gamma1 == None): self.gamma1 = np.ones(shape=n)\n",
    "        if (gamma2 == None): self.gamma2 = np.ones(shape=n)\n",
    "        if (omega == None): self.omega = np.ones(shape=n)\n",
    "        self.HW_abs_ids = np.zeros(shape=(n, 2))\n",
    "        self.FW_abs_ids = np.zeros(shape=(n, 2))\n",
    "        self.HWHM_abs = np.ones(shape=n)\n",
    "        \n",
    "        \n",
    "    def find_HW_ids(self, y):\n",
    "        HM = (max(y) + min(y))/2\n",
    "        index_left, index_right = np.argmin(y), np.argmin(y)\n",
    "        while (y[index_left] < HM and index_left > 0): index_left -= 1\n",
    "        while (y[index_right] < HM and index_right < len(y) - 1): index_right += 1\n",
    "        return np.array([index_left, index_right])\n",
    "    \n",
    "    def get_HW_abs_ids(self, y, cut=-1):\n",
    "        ids = self.find_HW_ids(y)\n",
    "        self.HW_abs_ids[cut] = ids\n",
    "        return ids\n",
    "    \n",
    "    def get_FW_abs_ids(self, y, cut=-1):\n",
    "        ids = self.find_HW_ids(y)\n",
    "        delta = ids[1] - ids[0]\n",
    "        ids = np.array([ids[0] - 3*delta//2, ids[1] + 3*delta//2])\n",
    "        #ids = [ids[0] - delta, ids[1] + delta]\n",
    "        if ids[0] < 0: ids[0] = 0\n",
    "        if ids[1] >= len(y): ids[1] = len(y) - 1\n",
    "        self.FW_abs_ids[cut] = ids\n",
    "        return ids\n",
    "    \n",
    "    def get_HWHM_abs(self, x, y, cut=-1):\n",
    "        idx_l, idx_r = self.get_HW_abs_ids(y, cut=cut)\n",
    "        hwhm = (x[idx_r] - x[idx_l])/2\n",
    "        self.HWHM_abs[cut] = hwhm\n",
    "#         plt.scatter(x[idx_l], y[idx_l])\n",
    "#         plt.scatter(x[idx_r], y[idx_r])\n",
    "        return hwhm\n",
    "\n",
    "    def get_parameters(self):\n",
    "        return self.a, self.alpha, self.tau, self.phi, self.gamma1, self.gamma2,  self.freq_r, self.omega "
   ]
  },
  {
   "cell_type": "code",
   "execution_count": 401,
   "id": "8c67c2ad",
   "metadata": {},
   "outputs": [],
   "source": [
    "class S21_transmission(object):\n",
    "\n",
    "    def __init__(self, power, data, freq):\n",
    "        self.power, self.data, self.freq = np.array(power), np.array(data), np.array(freq)\n",
    "        \n",
    "        n = len(power)\n",
    "        \n",
    "        self.real, self.imag = np.real(self.data), np.imag(self.data)\n",
    "        self.abs = np.abs(self.data)\n",
    "        self.arg = np.unwrap(np.angle(self.data))\n",
    "        \n",
    "        self.params = Parameters(n=n)\n",
    "        self.ig = Initial_Guess(n=n)\n",
    "        self.update_initial_guess()\n",
    "        \n",
    "    def update_data(self):\n",
    "        self.real, self.imag = np.real(self.data), np.imag(self.data)\n",
    "        self.abs = np.abs(self.data)\n",
    "        self.arg = np.unwrap(np.angle(self.data))\n",
    "        \n",
    "        \n",
    "    def update_initial_guess(self):\n",
    "        for cut in range(len(self.power)):\n",
    "            x, y = self.freq, self.abs[cut]\n",
    "            _ = self.ig.get_HW_abs_ids(y, cut=cut)\n",
    "            _ = self.ig.get_FW_abs_ids(y, cut=cut)\n",
    "            _ = self.ig.get_HWHM_abs(x, y, cut=cut)\n",
    "        \n",
    "        \n",
    "    def fit_abs(self, cut=-1, is_plot=False):\n",
    "        x, y = self.freq, self.abs[cut]\n",
    "        if is_plot: plt.plot(x, y)\n",
    "\n",
    "        def  Lorentzian(x, x_0, alpha, gamma, y_0):\n",
    "            return y_0 + (alpha/(gamma*np.pi)) * (1/(((x - x_0)/gamma)**2 + 1))\n",
    "        hwhm = self.ig.get_HWHM_abs(x, y, cut=cut)\n",
    "        p0 = [x[np.argmin(y)], (max(y) - min(y))*np.pi*hwhm, hwhm, max(y)]\n",
    "        popt, pcov = curve_fit(Lorentzian, x, y, p0 = p0, maxfev=100000)\n",
    "        #if is_plot: plt.plot(x, Lorentzian(x, *popt), label='Lorentzian')\n",
    "        \n",
    "        def Abs(freq, freq_r, phi, gamma1, gamma2, a, R):\n",
    "            t = (freq_r - freq)/gamma2\n",
    "            #r = ((gamma1/(2*gamma2))*1/((1 + t**2 + rabi_freq**2/(gamma1*gamma2))))\n",
    "            r = ((gamma1/(2*gamma2))*1/((1 + t**2 + R)))\n",
    "            return a*np.sqrt(1 - 2*r*(np.cos(phi) - t*np.sin(phi)) + (r**2)*(1 + t**2))\n",
    "        freq_r, alpha, gamma, a = popt[0], popt[1], popt[2], popt[3]\n",
    "        ids = np.arange(0, len(self.freq))\n",
    "        #ids = np.arange(0, self.ig.get_FW_abs_ids(y)[1])\n",
    "        ids = np.arange(*self.ig.get_FW_abs_ids(y))\n",
    "        #if is_plot: plt.plot(x[ids], y[ids])\n",
    "        p0 = [freq_r, 0., 2*gamma, gamma, a, 1.]\n",
    "        popt, pcov = curve_fit(Abs, x, y, p0=p0, maxfev=100000)\n",
    "        if is_plot: plt.plot(x, Abs(x, *popt), label='S_21')\n",
    "        \n",
    "        #if is_plot: plt.legend()\n",
    "          \n",
    "        return popt, pcov\n",
    "    \n",
    "    def fit_arg(self, cut=-1, is_plot=False):\n",
    "        x, y = self.freq, self.arg[cut]\n",
    "        if is_plot: plt.plot(x, y)\n",
    "        \n",
    "        def linear(x, a, b): return a*x + b\n",
    "        popt, pcov = curve_fit(linear, x, y)\n",
    "            \n",
    "        def Arg(freq, freq_r, phi, gamma1, gamma2, alpha, rabi_freq, tau):\n",
    "            t = (freq_r - freq) / gamma2\n",
    "            r = ((gamma1 / (2 * gamma2)) * 1 / ((1 + t ** 2 + rabi_freq ** 2 / (gamma1 * gamma2))))\n",
    "            return (alpha + freq*tau + \n",
    "                    np.arctan(-(t*np.cos(phi) + np.sin(phi))/(1/r + t*np.sin(phi) - np.cos(phi))))\n",
    "        tau, alpha = popt[0], popt[1]\n",
    "        hwhm = self.ig.get_HWHM_abs(self.freq, self.abs[cut], cut=cut)\n",
    "        freq_r, phi, gamma1, gamma2, rabi_freq = x.mean(), 0., hwhm, hwhm, 1.\n",
    "        p0 = [freq_r, phi, gamma1, gamma2, alpha, rabi_freq, tau]\n",
    "        popt, pcov = curve_fit(Arg, x, y, p0=p0, maxfev=100000)\n",
    "        if is_plot: plt.plot(x, Arg(x, *popt), label='S_21')\n",
    "        \n",
    "        if is_plot: plt.scatter(freq_r, Arg(freq_r, *popt))\n",
    "        \n",
    "        return popt, pcov\n",
    "    \n",
    "    def fit_canonical_arg(self, cut=-1, is_plot=False):\n",
    "        x, y = self.freq, self.arg[cut]\n",
    "        if is_plot: plt.plot(x, y)\n",
    "        \n",
    "        def arg(freq, freq_r, phi, gamma2): return phi + np.arctan((freq_r - freq)/gamma2)\n",
    "        #ids = np.arange(len(self.freq))\n",
    "        ids = np.arange(*self.ig.FW_abs_ids[cut], dtype=int)\n",
    "        if is_plot: plt.plot(x[ids], y[ids])\n",
    "        p0 = [self.params.freq_r[cut], 0., self.ig.HWHM_abs[cut]]\n",
    "        popt, pcov = curve_fit(arg, x[ids], y[ids], p0=p0)\n",
    "        if is_plot: plt.plot(x, arg(x, *popt))\n",
    "        \n",
    "        return popt, pcov\n",
    "    \n",
    "    def fit_canonical_real(self, cut=-1, is_plot=False):\n",
    "        def lorentzian(x, freq_r, gamma, R): \n",
    "            return gamma/(1 + R + ((freq_r - x)/self.ig.gamma2[cut])**2)\n",
    "        x, y = self.freq, self.real[cut]\n",
    "        #t = (self.ig.freq_r[cut] - x)/self.ig.gamma2[cut]\n",
    "        \n",
    "        ids = np.arange(*self.ig.FW_abs_ids[cut], dtype=int)\n",
    "        freq_r0 = self.ig.freq_r[cut]\n",
    "        R0 = self.ig.HWHM_abs[cut]/self.ig.gamma2[cut]\n",
    "        gamma0 = max(y)*(1 + R0)\n",
    "        p0 = [freq_r0, gamma0, R0]\n",
    "        popt, pcov = curve_fit(lorentzian, x[ids], y[ids], p0=p0)\n",
    "        gamma, R = popt[1], popt[2]\n",
    "        \n",
    "        self.ig.gamma1[cut] = 2*gamma*self.ig.gamma2[cut]\n",
    "        self.ig.omega[cut] = R*2*gamma*(self.ig.gamma2[cut])**2\n",
    "        \n",
    "        if is_plot:\n",
    "            plt.plot(x, y)\n",
    "            plt.plot(x[ids], y[ids])\n",
    "            plt.plot(x, lorentzian(x, *popt))\n",
    "        \n",
    "        return popt, pcov\n",
    "    \n",
    "    \n",
    "    def fit_ellipse(self, cut=-1, is_plot=False):\n",
    "        @njit\n",
    "        def ellipse(tau, Ax, Ay, phi, a):\n",
    "            x1, y1 = Ax*(1 + np.cos(tau)), Ay*np.sin(tau)\n",
    "            z1 = (x1 + 1j*y1)\n",
    "            z2 = a*(1 - z1*np.exp(1j*phi))\n",
    "            x, y = np.real(z2), np.imag(z2)\n",
    "            return x, y\n",
    "\n",
    "        def error(p, x, y):\n",
    "            Ax, Ay, phi, a = p\n",
    "            x0, y0 = a*(1 - Ax*np.cos(phi)), -a*Ax*np.sin(phi)\n",
    "            err = 0\n",
    "            for i in range(0, len(x)):\n",
    "                alpha = np.arctan2((y[i] - y0), (x[i] - x0))\n",
    "                tau = np.arctan((Ax/Ay)*np.tan(alpha - phi))\n",
    "                tmp_x, tmp_y = ellipse(tau, Ax, Ay, phi, a)\n",
    "                alpha_alt = np.arctan2((tmp_y - y0), (tmp_x - x0))\n",
    "                if np.sign(alpha) != np.sign(alpha_alt): \n",
    "                    tau += np.pi\n",
    "                    tmp_x, tmp_y = ellipse(tau, Ax, Ay, phi, a)\n",
    "                err += ((tmp_x - x[i])**2 + (tmp_y - y[i])**2)\n",
    "            return err\n",
    "        \n",
    "        def get_ellipse(p, x, y):\n",
    "            Ax, Ay, phi, a = p\n",
    "            x0, y0 = a*(1 - Ax*np.cos(phi)), -a*Ax*np.sin(phi)\n",
    "            ell = []\n",
    "            for i in range(0, len(x)):\n",
    "                alpha = np.arctan2((y[i] - y0), (x[i] - x0))\n",
    "                tau = np.arctan((Ax/Ay)*np.tan(alpha - phi))\n",
    "                tmp_x, tmp_y = ellipse(tau, Ax, Ay, phi, a)\n",
    "                alpha_alt = np.arctan2((tmp_y - y0), (tmp_x - x0))\n",
    "                if np.sign(alpha) != np.sign(alpha_alt):\n",
    "                    tau += np.pi\n",
    "                    tmp_x, tmp_y = ellipse(tau, Ax, Ay, phi, a)\n",
    "                ell.append(tmp_x + 1j*tmp_y)\n",
    "            return ell\n",
    "\n",
    "\n",
    "        def fit(x, y):\n",
    "            data = np.array(list(zip(x, y)))\n",
    "            reg = LsqEllipse().fit(data)\n",
    "            center, width, height, phi = reg.as_parameters()\n",
    "\n",
    "            a0 = abs(center[0] + np.sqrt(height**2 - center[1]**2))\n",
    "            #a0 = self.ig.a[cut]\n",
    "            phi0 = min(abs(phi), abs(np.pi - phi))\n",
    "            Ax0, Ay0 = abs(width/a0), abs(height/a0)\n",
    "            p0 = [Ax0, Ay0, phi0, a0]\n",
    "\n",
    "            res = minimize(error, x0=p0, args=(x, y))\n",
    "            popt = res.x\n",
    "\n",
    "            return popt\n",
    "        \n",
    "        ids = np.arange(*self.ig.FW_abs_ids[cut], dtype=int)\n",
    "        x, y = self.real[cut], self.imag[cut]\n",
    "        popt = fit(x[ids], y[ids])\n",
    "        baseline_deleted_ellipse = get_ellipse(popt, x, y)\n",
    "        \n",
    "        if is_plot:\n",
    "            plt.axis('equal')\n",
    "            plt.scatter(x, y, 1)\n",
    "            plt.scatter(x[ids], y[ids], 1)\n",
    "            plt.plot(np.real(baseline_deleted_ellipse), np.imag(baseline_deleted_ellipse))\n",
    "        \n",
    "        return popt, baseline_deleted_ellipse\n",
    "\n",
    "    \n",
    "    def remove_background(self, remove_baseline=False, is_plot=False):\n",
    "        for cut in range(len(self.power)):\n",
    "            try:\n",
    "                popt, pcov = self.fit_abs(cut=cut)\n",
    "                freq_r, a = popt[0], popt[4]\n",
    "                self.params.freq_r[cut] = freq_r\n",
    "                self.ig.a[cut] = a\n",
    "\n",
    "                popt, pcov = self.fit_arg(cut=cut)\n",
    "                alpha, tau = popt[-3], popt[-1]\n",
    "\n",
    "                self.data[cut] /= np.exp(1j*alpha)*np.exp(1j*tau*self.freq)\n",
    "                self.update_data()\n",
    "\n",
    "                popt, baseline_deleted_ellipse = self.fit_ellipse(cut=cut, is_plot=is_plot)\n",
    "                if is_plot: plt.show()\n",
    "                a = popt[3]\n",
    "\n",
    "                if remove_baseline == True: self.data[cut] = baseline_deleted_ellipse\n",
    "                self.data[cut] /= a\n",
    "\n",
    "                self.data[cut] = 1 - self.data[cut]\n",
    "                self.update_data()\n",
    "\n",
    "                self.params.freq_r[cut] = freq_r\n",
    "                self.ig.a[cut] = a\n",
    "                self.ig.alpha[cut] = alpha\n",
    "                self.ig.tau[cut] = tau\n",
    "                \n",
    "            except: self.data[cut] = np.empty(shape=len(data[cut]))\n",
    "        self.update_data()\n",
    "                \n",
    "    \n",
    "    def delete_mismatch(self, is_plot=False):\n",
    "        for cut in range(len(self.power)):\n",
    "            try:\n",
    "                popt, pcov = self.fit_canonical_arg(cut=cut, is_plot=is_plot)\n",
    "                if is_plot: plt.show()\n",
    "                freq_r, phi, gamma2 = popt[0], popt[1], popt[2]\n",
    "\n",
    "                self.data[cut] /= np.exp(1j*phi)\n",
    "\n",
    "                self.ig.freq_r[cut] = freq_r\n",
    "                self.ig.phi[cut] = phi\n",
    "                self.ig.gamma2[cut] = gamma2\n",
    "            except: self.data[cut] = np.empty(shape=len(data[cut]))\n",
    "        self.update_data()\n",
    "    \n",
    "    def get_parameters(self):\n",
    "        return self.params.get_parameters()"
   ]
  },
  {
   "cell_type": "code",
   "execution_count": null,
   "id": "4ab216f2",
   "metadata": {},
   "outputs": [],
   "source": []
  },
  {
   "cell_type": "code",
   "execution_count": null,
   "id": "ac6240b0",
   "metadata": {},
   "outputs": [],
   "source": []
  },
  {
   "cell_type": "code",
   "execution_count": 402,
   "id": "9a1188e4",
   "metadata": {},
   "outputs": [],
   "source": [
    "def make_baseline(freq=None, eps_baseline=0.1, n=2, delta=30.0e+6):\n",
    "    n = 2\n",
    "    \n",
    "    if freq == None:\n",
    "        freq = np.linspace(5.126e+09, 5.156e+09, 4501)\n",
    "    \n",
    "    baseline_periods = np.random.uniform(0.5*(2*np.pi/delta), (2*np.pi/delta), size=n)\n",
    "    print(baseline_periods)\n",
    "    \n",
    "    baseline = np.array([eps_baseline*np.sin(baseline_periods[i]*freq) for i in range(n)])\n",
    "    baseline = np.sum(baseline, axis=0)\n",
    "    \n",
    "    return baseline\n",
    "\n",
    "def generate(freq=None, params=None, eps=0.1, eps_baseline=0., is_plot=False, baseline=[]):\n",
    "    if params == None:\n",
    "        params = Parameters(a=0.013, alpha=1.6e+3, tau=-3.3e-7, phi=-.05, gamma1=2.6e+6, gamma2=1.3e+6, \n",
    "                            freq_r=5.14e+9, omega=2.1e+6)\n",
    "    \n",
    "    a, alpha, tau, phi, gamma1, gamma2, freq_r, omega = params.get_parameters()\n",
    "    \n",
    "    if freq == None:\n",
    "        freq = np.linspace(5.126e+09, 5.156e+09, 4501)\n",
    "        #freq = np.linspace(5.106e+09, 5.176e+09, 4501)\n",
    "        #freq = np.linspace(5.086e+09, 5.196e+09, 4501)\n",
    "        \n",
    "    noise = np.random.normal(0, eps, len(freq)) + 1j*np.random.normal(0, eps, len(freq))\n",
    "    \n",
    "    if len(baseline)==0: baseline = make_baseline(freq, eps_baseline=eps_baseline)\n",
    "    \n",
    "    t = (freq_r - freq)/gamma2\n",
    "    r = ((gamma1/(2*gamma2))*1/((1 + t**2 + omega**2/(gamma1*gamma2))))\n",
    "    data = [0., 0.]\n",
    "    data[0] = a*np.exp(1j*alpha)*np.exp(1j*freq*tau)*(1 - r*(1 + 1j*t)*np.exp(-1j*phi))\n",
    "    data[0] += noise\n",
    "    data[0] *= 1. + baseline\n",
    "    data[1] = a*np.exp(1j*alpha)*np.exp(1j*freq*tau)*(1 - r*(1 + 1j*t)*np.exp(-1j*phi))\n",
    "    data[1] += noise\n",
    "    data[1] *= 1. + baseline\n",
    "    \n",
    "    #data += (0. + baseline)\n",
    "    \n",
    "    if is_plot:\n",
    "        plt.plot(freq, abs(data[0]))\n",
    "        plt.plot(freq, a*(1. + baseline))\n",
    "        print(np.std(baseline))\n",
    "    \n",
    "    return [0., 1.], data, freq"
   ]
  },
  {
   "cell_type": "code",
   "execution_count": 427,
   "id": "f382c69c",
   "metadata": {},
   "outputs": [
    {
     "name": "stdout",
     "output_type": "stream",
     "text": [
      "[1.12664668e-07 1.59416941e-07]\n",
      "0.00013693885708550472\n"
     ]
    },
    {
     "data": {
      "image/png": "[encoded data removed]",
      "text/plain": [
       "<Figure size 432x288 with 1 Axes>"
      ]
     },
     "metadata": {
      "needs_background": "light"
     },
     "output_type": "display_data"
    }
   ],
   "source": [
    "path = 'D:/LAQS/One Qubit Fit/2023.02.02/STS_FROM_POWER, 30.11.20_raw_data.pkl'\n",
    "#path = 'data/VIII_power_two_tone_ro_line_curr0_0001,_vnapower_65dbm_raw_data.pkl'\n",
    "power, data, freq = unpack(file_path=path, is_number=False)\n",
    "\n",
    "# power, data, freq = unpack(file_path='D:/LAQS/One Qubit Fit/2023.02.02/Al_III_Daria_last_try_5_8_6_3_resonators_on_power.pkl', is_number=True, freq_var=4)\n",
    "baseline = make_baseline(eps_baseline=0.0002)\n",
    "d = S21_transmission(power, data, freq)\n",
    "d = S21_transmission(*generate(eps=0.000042, baseline=baseline, is_plot=True))\n",
    "n = len(d.power)"
   ]
  },
  {
   "cell_type": "code",
   "execution_count": 428,
   "id": "3b460c1c",
   "metadata": {
    "scrolled": true
   },
   "outputs": [],
   "source": [
    "for cut in range(3, n):\n",
    "    d.fit_abs(cut=cut, is_plot=True)\n",
    "    plt.show()"
   ]
  },
  {
   "cell_type": "code",
   "execution_count": 429,
   "id": "e20d0a66",
   "metadata": {},
   "outputs": [
    {
     "name": "stderr",
     "output_type": "stream",
     "text": [
      "c:\\users\\user\\appdata\\local\\programs\\python\\python38\\lib\\site-packages\\scipy\\optimize\\minpack.py:833: OptimizeWarning: Covariance of the parameters could not be estimated\n",
      "  warnings.warn('Covariance of the parameters could not be estimated',\n",
      "c:\\users\\user\\appdata\\local\\programs\\python\\python38\\lib\\site-packages\\scipy\\optimize\\minpack.py:833: OptimizeWarning: Covariance of the parameters could not be estimated\n",
      "  warnings.warn('Covariance of the parameters could not be estimated',\n"
     ]
    }
   ],
   "source": [
    "d.remove_background(remove_baseline=True, is_plot=False)"
   ]
  },
  {
   "cell_type": "code",
   "execution_count": 430,
   "id": "174d56ee",
   "metadata": {
    "scrolled": false
   },
   "outputs": [
    {
     "data": {
      "image/png": "[encoded data removed]",
      "text/plain": [
       "<Figure size 1080x1080 with 1 Axes>"
      ]
     },
     "metadata": {
      "needs_background": "light"
     },
     "output_type": "display_data"
    }
   ],
   "source": [
    "plt.figure(figsize=(15, 15))\n",
    "plt.axis('equal')\n",
    "# for cut in range(11, n):\n",
    "for cut in range(1, n):\n",
    "    plt.scatter(d.real[cut], d.imag[cut])\n",
    "plt.show()"
   ]
  },
  {
   "cell_type": "code",
   "execution_count": 431,
   "id": "4646472d",
   "metadata": {},
   "outputs": [
    {
     "data": {
      "image/png": "[encoded data removed]",
      "text/plain": [
       "<Figure size 432x288 with 1 Axes>"
      ]
     },
     "metadata": {
      "needs_background": "light"
     },
     "output_type": "display_data"
    }
   ],
   "source": [
    "# for cut in range(11, n-2):\n",
    "for cut in range(1, n):\n",
    "    plt.plot(d.freq, d.abs[cut])\n",
    "plt.show()"
   ]
  },
  {
   "cell_type": "code",
   "execution_count": 432,
   "id": "92fa192b",
   "metadata": {},
   "outputs": [
    {
     "data": {
      "image/png": "[encoded data removed]",
      "text/plain": [
       "<Figure size 432x288 with 1 Axes>"
      ]
     },
     "metadata": {
      "needs_background": "light"
     },
     "output_type": "display_data"
    },
    {
     "data": {
      "image/png": "[encoded data removed]",
      "text/plain": [
       "<Figure size 432x288 with 1 Axes>"
      ]
     },
     "metadata": {
      "needs_background": "light"
     },
     "output_type": "display_data"
    }
   ],
   "source": [
    "d.delete_mismatch(is_plot=True)"
   ]
  },
  {
   "cell_type": "code",
   "execution_count": 433,
   "id": "d1ebcfa3",
   "metadata": {},
   "outputs": [
    {
     "data": {
      "image/png": "[encoded data removed]",
      "text/plain": [
       "<Figure size 432x288 with 1 Axes>"
      ]
     },
     "metadata": {
      "needs_background": "light"
     },
     "output_type": "display_data"
    }
   ],
   "source": [
    "# for cut in range(11, n-2):\n",
    "for cut in range(1, n):\n",
    "    plt.plot(d.freq, d.arg[cut])\n",
    "plt.show()"
   ]
  },
  {
   "cell_type": "code",
   "execution_count": 434,
   "id": "03c5f256",
   "metadata": {},
   "outputs": [
    {
     "data": {
      "text/plain": [
       "<matplotlib.collections.PathCollection at 0x1e746cb6070>"
      ]
     },
     "execution_count": 434,
     "metadata": {},
     "output_type": "execute_result"
    },
    {
     "data": {
      "image/png": "[encoded data removed]",
      "text/plain": [
       "<Figure size 432x288 with 1 Axes>"
      ]
     },
     "metadata": {
      "needs_background": "light"
     },
     "output_type": "display_data"
    }
   ],
   "source": [
    "# plt.plot(d.ig.gamma2[11:-2])\n",
    "plt.xlabel('Power, dbm')\n",
    "plt.ylabel('Gamma_2, Hz')\n",
    "plt.scatter(d.power[1:], d.ig.gamma2[1:])"
   ]
  },
  {
   "cell_type": "code",
   "execution_count": 435,
   "id": "6e07ed75",
   "metadata": {},
   "outputs": [
    {
     "data": {
      "text/plain": [
       "(0.03816793893129771, 0.0015267175572519084)"
      ]
     },
     "execution_count": 435,
     "metadata": {},
     "output_type": "execute_result"
    }
   ],
   "source": [
    "5/131, 2/1310"
   ]
  },
  {
   "cell_type": "code",
   "execution_count": 436,
   "id": "bfd4f36e",
   "metadata": {},
   "outputs": [
    {
     "data": {
      "image/png": "[encoded data removed]",
      "text/plain": [
       "<Figure size 432x288 with 1 Axes>"
      ]
     },
     "metadata": {
      "needs_background": "light"
     },
     "output_type": "display_data"
    }
   ],
   "source": [
    "# for cut in range(11, n-2):\n",
    "for cut in range(1, n):\n",
    "    plt.plot(d.freq, d.real[cut])\n",
    "plt.show()"
   ]
  },
  {
   "cell_type": "code",
   "execution_count": 437,
   "id": "e75b3e20",
   "metadata": {},
   "outputs": [
    {
     "data": {
      "text/plain": [
       "(array([5.13999849e+09, 9.99666619e-01, 1.30190792e+00]),\n",
       " array([[ 5.05182097e+05, -1.33882566e-03, -3.65539139e-03],\n",
       "        [-1.33882566e-03,  7.38056565e-07,  2.03705416e-06],\n",
       "        [-3.65539140e-03,  2.03705416e-06,  6.16849730e-06]]))"
      ]
     },
     "execution_count": 437,
     "metadata": {},
     "output_type": "execute_result"
    }
   ],
   "source": [
    "d.fit_canonical_real()"
   ]
  },
  {
   "cell_type": "code",
   "execution_count": 438,
   "id": "6ef2deeb",
   "metadata": {},
   "outputs": [
    {
     "data": {
      "image/png": "[encoded data removed]",
      "text/plain": [
       "<Figure size 432x288 with 1 Axes>"
      ]
     },
     "metadata": {
      "needs_background": "light"
     },
     "output_type": "display_data"
    }
   ],
   "source": [
    "# for cut in range(11, n-2):\n",
    "for cut in range(1, n):\n",
    "    d.fit_canonical_real(cut=cut, is_plot=True)\n",
    "    plt.show()"
   ]
  },
  {
   "cell_type": "code",
   "execution_count": 439,
   "id": "b8eae6f3",
   "metadata": {},
   "outputs": [
    {
     "data": {
      "text/plain": [
       "<matplotlib.collections.PathCollection at 0x1e74b694580>"
      ]
     },
     "execution_count": 439,
     "metadata": {},
     "output_type": "execute_result"
    },
    {
     "data": {
      "image/png": "[encoded data removed]",
      "text/plain": [
       "<Figure size 432x288 with 1 Axes>"
      ]
     },
     "metadata": {
      "needs_background": "light"
     },
     "output_type": "display_data"
    }
   ],
   "source": [
    "# plt.scatter(d.power[11:-2], d.ig.gamma1[11:-2])\n",
    "plt.xlabel('Power, dbm')\n",
    "plt.ylabel('Gamma_1, Hz')\n",
    "plt.scatter(d.power[1:], d.ig.gamma1[1:])"
   ]
  },
  {
   "cell_type": "code",
   "execution_count": 440,
   "id": "ef2276a1",
   "metadata": {},
   "outputs": [
    {
     "data": {
      "text/plain": [
       "(0.03404255319148936, 0.08333333333333333)"
      ]
     },
     "execution_count": 440,
     "metadata": {},
     "output_type": "execute_result"
    }
   ],
   "source": [
    "8/235, 1000/12000"
   ]
  },
  {
   "cell_type": "code",
   "execution_count": 441,
   "id": "029db670",
   "metadata": {},
   "outputs": [
    {
     "ename": "TypeError",
     "evalue": "Improper input: func input vector length N=2 must not exceed func output vector length M=1",
     "output_type": "error",
     "traceback": [
      "\u001b[1;31m---------------------------------------------------------------------------\u001b[0m",
      "\u001b[1;31mTypeError\u001b[0m                                 Traceback (most recent call last)",
      "\u001b[1;32m~\\AppData\\Local\\Temp/ipykernel_6808/743442462.py\u001b[0m in \u001b[0;36m<module>\u001b[1;34m\u001b[0m\n\u001b[0;32m      7\u001b[0m \u001b[1;31m# x, y = (d.power[11:-2]), np.sqrt(abs(d.ig.omega[11:-2]))\u001b[0m\u001b[1;33m\u001b[0m\u001b[1;33m\u001b[0m\u001b[1;33m\u001b[0m\u001b[0m\n\u001b[0;32m      8\u001b[0m \u001b[0mplt\u001b[0m\u001b[1;33m.\u001b[0m\u001b[0mscatter\u001b[0m\u001b[1;33m(\u001b[0m\u001b[0mx\u001b[0m\u001b[1;33m,\u001b[0m \u001b[0my\u001b[0m\u001b[1;33m)\u001b[0m\u001b[1;33m\u001b[0m\u001b[1;33m\u001b[0m\u001b[0m\n\u001b[1;32m----> 9\u001b[1;33m \u001b[0mpopt\u001b[0m\u001b[1;33m,\u001b[0m \u001b[0mpcov\u001b[0m \u001b[1;33m=\u001b[0m \u001b[0mcurve_fit\u001b[0m\u001b[1;33m(\u001b[0m\u001b[0mlinear\u001b[0m\u001b[1;33m,\u001b[0m \u001b[0mx\u001b[0m\u001b[1;33m,\u001b[0m \u001b[0my\u001b[0m\u001b[1;33m,\u001b[0m \u001b[0mp0\u001b[0m\u001b[1;33m=\u001b[0m\u001b[1;33m[\u001b[0m\u001b[0my\u001b[0m\u001b[1;33m[\u001b[0m\u001b[1;36m0\u001b[0m\u001b[1;33m]\u001b[0m\u001b[1;33m,\u001b[0m \u001b[0my\u001b[0m\u001b[1;33m[\u001b[0m\u001b[1;33m-\u001b[0m\u001b[1;36m1\u001b[0m\u001b[1;33m]\u001b[0m\u001b[1;33m/\u001b[0m\u001b[0mx\u001b[0m\u001b[1;33m[\u001b[0m\u001b[1;33m-\u001b[0m\u001b[1;36m1\u001b[0m\u001b[1;33m]\u001b[0m\u001b[1;33m]\u001b[0m\u001b[1;33m)\u001b[0m\u001b[1;33m\u001b[0m\u001b[1;33m\u001b[0m\u001b[0m\n\u001b[0m\u001b[0;32m     10\u001b[0m \u001b[0mprint\u001b[0m\u001b[1;33m(\u001b[0m\u001b[1;33m[\u001b[0m\u001b[0my\u001b[0m\u001b[1;33m[\u001b[0m\u001b[1;36m0\u001b[0m\u001b[1;33m]\u001b[0m\u001b[1;33m,\u001b[0m \u001b[0my\u001b[0m\u001b[1;33m[\u001b[0m\u001b[1;33m-\u001b[0m\u001b[1;36m1\u001b[0m\u001b[1;33m]\u001b[0m\u001b[1;33m/\u001b[0m\u001b[0mx\u001b[0m\u001b[1;33m[\u001b[0m\u001b[1;33m-\u001b[0m\u001b[1;36m1\u001b[0m\u001b[1;33m]\u001b[0m\u001b[1;33m]\u001b[0m\u001b[1;33m,\u001b[0m \u001b[0mpopt\u001b[0m\u001b[1;33m)\u001b[0m\u001b[1;33m\u001b[0m\u001b[1;33m\u001b[0m\u001b[0m\n\u001b[0;32m     11\u001b[0m \u001b[0mplt\u001b[0m\u001b[1;33m.\u001b[0m\u001b[0mplot\u001b[0m\u001b[1;33m(\u001b[0m\u001b[0mx\u001b[0m\u001b[1;33m,\u001b[0m \u001b[0mlinear\u001b[0m\u001b[1;33m(\u001b[0m\u001b[0mx\u001b[0m\u001b[1;33m,\u001b[0m \u001b[1;33m*\u001b[0m\u001b[0mpopt\u001b[0m\u001b[1;33m)\u001b[0m\u001b[1;33m,\u001b[0m \u001b[0mlabel\u001b[0m\u001b[1;33m=\u001b[0m\u001b[1;34m'fit'\u001b[0m\u001b[1;33m,\u001b[0m \u001b[0mc\u001b[0m\u001b[1;33m=\u001b[0m\u001b[1;34m'r'\u001b[0m\u001b[1;33m)\u001b[0m\u001b[1;33m\u001b[0m\u001b[1;33m\u001b[0m\u001b[0m\n",
      "\u001b[1;32mc:\\users\\user\\appdata\\local\\programs\\python\\python38\\lib\\site-packages\\scipy\\optimize\\minpack.py\u001b[0m in \u001b[0;36mcurve_fit\u001b[1;34m(f, xdata, ydata, p0, sigma, absolute_sigma, check_finite, bounds, method, jac, **kwargs)\u001b[0m\n\u001b[0;32m    787\u001b[0m         \u001b[1;31m# Remove full_output from kwargs, otherwise we're passing it in twice.\u001b[0m\u001b[1;33m\u001b[0m\u001b[1;33m\u001b[0m\u001b[1;33m\u001b[0m\u001b[0m\n\u001b[0;32m    788\u001b[0m         \u001b[0mreturn_full\u001b[0m \u001b[1;33m=\u001b[0m \u001b[0mkwargs\u001b[0m\u001b[1;33m.\u001b[0m\u001b[0mpop\u001b[0m\u001b[1;33m(\u001b[0m\u001b[1;34m'full_output'\u001b[0m\u001b[1;33m,\u001b[0m \u001b[1;32mFalse\u001b[0m\u001b[1;33m)\u001b[0m\u001b[1;33m\u001b[0m\u001b[1;33m\u001b[0m\u001b[0m\n\u001b[1;32m--> 789\u001b[1;33m         \u001b[0mres\u001b[0m \u001b[1;33m=\u001b[0m \u001b[0mleastsq\u001b[0m\u001b[1;33m(\u001b[0m\u001b[0mfunc\u001b[0m\u001b[1;33m,\u001b[0m \u001b[0mp0\u001b[0m\u001b[1;33m,\u001b[0m \u001b[0mDfun\u001b[0m\u001b[1;33m=\u001b[0m\u001b[0mjac\u001b[0m\u001b[1;33m,\u001b[0m \u001b[0mfull_output\u001b[0m\u001b[1;33m=\u001b[0m\u001b[1;36m1\u001b[0m\u001b[1;33m,\u001b[0m \u001b[1;33m**\u001b[0m\u001b[0mkwargs\u001b[0m\u001b[1;33m)\u001b[0m\u001b[1;33m\u001b[0m\u001b[1;33m\u001b[0m\u001b[0m\n\u001b[0m\u001b[0;32m    790\u001b[0m         \u001b[0mpopt\u001b[0m\u001b[1;33m,\u001b[0m \u001b[0mpcov\u001b[0m\u001b[1;33m,\u001b[0m \u001b[0minfodict\u001b[0m\u001b[1;33m,\u001b[0m \u001b[0merrmsg\u001b[0m\u001b[1;33m,\u001b[0m \u001b[0mier\u001b[0m \u001b[1;33m=\u001b[0m \u001b[0mres\u001b[0m\u001b[1;33m\u001b[0m\u001b[1;33m\u001b[0m\u001b[0m\n\u001b[0;32m    791\u001b[0m         \u001b[0mysize\u001b[0m \u001b[1;33m=\u001b[0m \u001b[0mlen\u001b[0m\u001b[1;33m(\u001b[0m\u001b[0minfodict\u001b[0m\u001b[1;33m[\u001b[0m\u001b[1;34m'fvec'\u001b[0m\u001b[1;33m]\u001b[0m\u001b[1;33m)\u001b[0m\u001b[1;33m\u001b[0m\u001b[1;33m\u001b[0m\u001b[0m\n",
      "\u001b[1;32mc:\\users\\user\\appdata\\local\\programs\\python\\python38\\lib\\site-packages\\scipy\\optimize\\minpack.py\u001b[0m in \u001b[0;36mleastsq\u001b[1;34m(func, x0, args, Dfun, full_output, col_deriv, ftol, xtol, gtol, maxfev, epsfcn, factor, diag)\u001b[0m\n\u001b[0;32m    412\u001b[0m \u001b[1;33m\u001b[0m\u001b[0m\n\u001b[0;32m    413\u001b[0m     \u001b[1;32mif\u001b[0m \u001b[0mn\u001b[0m \u001b[1;33m>\u001b[0m \u001b[0mm\u001b[0m\u001b[1;33m:\u001b[0m\u001b[1;33m\u001b[0m\u001b[1;33m\u001b[0m\u001b[0m\n\u001b[1;32m--> 414\u001b[1;33m         raise TypeError(f\"Improper input: func input vector length N={n} must\"\n\u001b[0m\u001b[0;32m    415\u001b[0m                         f\" not exceed func output vector length M={m}\")\n\u001b[0;32m    416\u001b[0m \u001b[1;33m\u001b[0m\u001b[0m\n",
      "\u001b[1;31mTypeError\u001b[0m: Improper input: func input vector length N=2 must not exceed func output vector length M=1"
     ]
    },
    {
     "data": {
      "image/png": "[encoded data removed]",
      "text/plain": [
       "<Figure size 432x288 with 1 Axes>"
      ]
     },
     "metadata": {
      "needs_background": "light"
     },
     "output_type": "display_data"
    }
   ],
   "source": [
    "# plt.scatter(10.**(0.1*d.power[11:-2]), d.ig.omega[11:-2])4\n",
    "def linear(x, a, b): return a*x + b\n",
    "plt.xlabel('Power')\n",
    "plt.ylabel('Omega^2')\n",
    "x, y = 10.**(0.1*d.power[1:]), d.ig.omega[1:]\n",
    "# x, y = 10.**(0.1*d.power[11:-2]), d.ig.omega[11:-2]*d.ig.gamma1[11:-2]*d.ig.gamma2[11:-2]\n",
    "# x, y = (d.power[11:-2]), np.sqrt(abs(d.ig.omega[11:-2]))\n",
    "plt.scatter(x, y)\n",
    "popt, pcov = curve_fit(linear, x, y, p0=[y[0], y[-1]/x[-1]])\n",
    "print([y[0], y[-1]/x[-1]], popt)\n",
    "plt.plot(x, linear(x, *popt), label='fit', c='r')\n",
    "plt.legend()\n",
    "plt.xticks(rotation=45)\n",
    "plt.show()"
   ]
  },
  {
   "cell_type": "code",
   "execution_count": null,
   "id": "348e84f8",
   "metadata": {},
   "outputs": [],
   "source": []
  },
  {
   "cell_type": "code",
   "execution_count": 442,
   "id": "b6a889e7",
   "metadata": {},
   "outputs": [
    {
     "data": {
      "text/plain": [
       "[<matplotlib.lines.Line2D at 0x1e747581d60>]"
      ]
     },
     "execution_count": 442,
     "metadata": {},
     "output_type": "execute_result"
    },
    {
     "data": {
      "image/png": "[encoded data removed]",
      "text/plain": [
       "<Figure size 432x288 with 1 Axes>"
      ]
     },
     "metadata": {
      "needs_background": "light"
     },
     "output_type": "display_data"
    }
   ],
   "source": [
    "plt.plot(d.ig.freq_r[1:])"
   ]
  },
  {
   "cell_type": "code",
   "execution_count": 443,
   "id": "82832a44",
   "metadata": {},
   "outputs": [
    {
     "data": {
      "text/plain": [
       "0.014028056112224449"
      ]
     },
     "execution_count": 443,
     "metadata": {},
     "output_type": "execute_result"
    }
   ],
   "source": [
    "35/2495"
   ]
  },
  {
   "cell_type": "code",
   "execution_count": 444,
   "id": "8e0d722b",
   "metadata": {},
   "outputs": [
    {
     "data": {
      "text/plain": [
       "(array([0.01300451, 0.01300451]),\n",
       " array([1694.21521616, 1694.21521616]),\n",
       " array([-3.29993664e-07, -3.29993664e-07]),\n",
       " array([0.05060929, 0.05060929]),\n",
       " array([1.00000000e+00, 2.60028479e+06]),\n",
       " array([1300575.98115934, 1300575.98115934]),\n",
       " array([5.13999852e+09, 5.13999852e+09]),\n",
       " array([1.00000000e+00, 4.40288066e+12]))"
      ]
     },
     "execution_count": 444,
     "metadata": {},
     "output_type": "execute_result"
    }
   ],
   "source": [
    "d.ig.get_parameters()"
   ]
  },
  {
   "cell_type": "code",
   "execution_count": 421,
   "id": "75657873",
   "metadata": {},
   "outputs": [
    {
     "data": {
      "text/plain": [
       "2099234.963028198"
      ]
     },
     "execution_count": 421,
     "metadata": {},
     "output_type": "execute_result"
    }
   ],
   "source": [
    "np.sqrt(4.40678743e+12)"
   ]
  },
  {
   "cell_type": "code",
   "execution_count": null,
   "id": "b0e2456d",
   "metadata": {},
   "outputs": [],
   "source": []
  }
 ],
 "metadata": {
  "kernelspec": {
   "display_name": "Python 3 (ipykernel)",
   "language": "python",
   "name": "python3"
  },
  "language_info": {
   "codemirror_mode": {
    "name": "ipython",
    "version": 3
   },
   "file_extension": ".py",
   "mimetype": "text/x-python",
   "name": "python",
   "nbconvert_exporter": "python",
   "pygments_lexer": "ipython3",
   "version": "3.8.6"
  }
 },
 "nbformat": 4,
 "nbformat_minor": 5
}
